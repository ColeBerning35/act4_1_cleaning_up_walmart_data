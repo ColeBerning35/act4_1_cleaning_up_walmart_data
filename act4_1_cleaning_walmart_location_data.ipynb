{
 "cells": [
  {
   "cell_type": "markdown",
   "id": "481d2514",
   "metadata": {},
   "source": [
    "#### Hint on mean-centering and standardizing multiple columns using stack-transform-unstack"
   ]
  },
  {
   "cell_type": "code",
   "execution_count": 1,
   "id": "ab94f2ea",
   "metadata": {},
   "outputs": [],
   "source": [
    "import pandas as pd\n",
    "from dfply import *"
   ]
  },
  {
   "cell_type": "code",
   "execution_count": 13,
   "id": "6c18ed19",
   "metadata": {},
   "outputs": [
    {
     "data": {
      "text/html": [
       "<div>\n",
       "<style scoped>\n",
       "    .dataframe tbody tr th:only-of-type {\n",
       "        vertical-align: middle;\n",
       "    }\n",
       "\n",
       "    .dataframe tbody tr th {\n",
       "        vertical-align: top;\n",
       "    }\n",
       "\n",
       "    .dataframe thead th {\n",
       "        text-align: right;\n",
       "    }\n",
       "</style>\n",
       "<table border=\"1\" class=\"dataframe\">\n",
       "  <thead>\n",
       "    <tr style=\"text-align: right;\">\n",
       "      <th></th>\n",
       "      <th>A</th>\n",
       "      <th>B</th>\n",
       "      <th>C</th>\n",
       "    </tr>\n",
       "  </thead>\n",
       "  <tbody>\n",
       "    <tr>\n",
       "      <th>0</th>\n",
       "      <td>1</td>\n",
       "      <td>5</td>\n",
       "      <td>8</td>\n",
       "    </tr>\n",
       "    <tr>\n",
       "      <th>1</th>\n",
       "      <td>2</td>\n",
       "      <td>6</td>\n",
       "      <td>11</td>\n",
       "    </tr>\n",
       "    <tr>\n",
       "      <th>2</th>\n",
       "      <td>3</td>\n",
       "      <td>7</td>\n",
       "      <td>14</td>\n",
       "    </tr>\n",
       "  </tbody>\n",
       "</table>\n",
       "</div>"
      ],
      "text/plain": [
       "   A  B   C\n",
       "0  1  5   8\n",
       "1  2  6  11\n",
       "2  3  7  14"
      ]
     },
     "execution_count": 13,
     "metadata": {},
     "output_type": "execute_result"
    }
   ],
   "source": [
    "df = pd.DataFrame({'A': [1, 2, 3],\n",
    "                   'B': [5,6,7],\n",
    "                   'C': [8, 11, 14]\n",
    "                  })\n",
    "df"
   ]
  },
  {
   "cell_type": "code",
   "execution_count": 14,
   "id": "72ae7092",
   "metadata": {},
   "outputs": [
    {
     "data": {
      "text/html": [
       "<div>\n",
       "<style scoped>\n",
       "    .dataframe tbody tr th:only-of-type {\n",
       "        vertical-align: middle;\n",
       "    }\n",
       "\n",
       "    .dataframe tbody tr th {\n",
       "        vertical-align: top;\n",
       "    }\n",
       "\n",
       "    .dataframe thead th {\n",
       "        text-align: right;\n",
       "    }\n",
       "</style>\n",
       "<table border=\"1\" class=\"dataframe\">\n",
       "  <thead>\n",
       "    <tr style=\"text-align: right;\">\n",
       "      <th></th>\n",
       "      <th>group</th>\n",
       "      <th>value</th>\n",
       "      <th>centered</th>\n",
       "      <th>z_score</th>\n",
       "    </tr>\n",
       "  </thead>\n",
       "  <tbody>\n",
       "    <tr>\n",
       "      <th>0</th>\n",
       "      <td>A</td>\n",
       "      <td>1</td>\n",
       "      <td>-1.0</td>\n",
       "      <td>-1.0</td>\n",
       "    </tr>\n",
       "    <tr>\n",
       "      <th>1</th>\n",
       "      <td>A</td>\n",
       "      <td>2</td>\n",
       "      <td>0.0</td>\n",
       "      <td>0.0</td>\n",
       "    </tr>\n",
       "    <tr>\n",
       "      <th>2</th>\n",
       "      <td>A</td>\n",
       "      <td>3</td>\n",
       "      <td>1.0</td>\n",
       "      <td>1.0</td>\n",
       "    </tr>\n",
       "    <tr>\n",
       "      <th>3</th>\n",
       "      <td>B</td>\n",
       "      <td>5</td>\n",
       "      <td>-1.0</td>\n",
       "      <td>-1.0</td>\n",
       "    </tr>\n",
       "    <tr>\n",
       "      <th>4</th>\n",
       "      <td>B</td>\n",
       "      <td>6</td>\n",
       "      <td>0.0</td>\n",
       "      <td>0.0</td>\n",
       "    </tr>\n",
       "    <tr>\n",
       "      <th>5</th>\n",
       "      <td>B</td>\n",
       "      <td>7</td>\n",
       "      <td>1.0</td>\n",
       "      <td>1.0</td>\n",
       "    </tr>\n",
       "    <tr>\n",
       "      <th>6</th>\n",
       "      <td>C</td>\n",
       "      <td>8</td>\n",
       "      <td>-3.0</td>\n",
       "      <td>-1.0</td>\n",
       "    </tr>\n",
       "    <tr>\n",
       "      <th>7</th>\n",
       "      <td>C</td>\n",
       "      <td>11</td>\n",
       "      <td>0.0</td>\n",
       "      <td>0.0</td>\n",
       "    </tr>\n",
       "    <tr>\n",
       "      <th>8</th>\n",
       "      <td>C</td>\n",
       "      <td>14</td>\n",
       "      <td>3.0</td>\n",
       "      <td>1.0</td>\n",
       "    </tr>\n",
       "  </tbody>\n",
       "</table>\n",
       "</div>"
      ],
      "text/plain": [
       "  group  value  centered  z_score\n",
       "0     A      1      -1.0     -1.0\n",
       "1     A      2       0.0      0.0\n",
       "2     A      3       1.0      1.0\n",
       "3     B      5      -1.0     -1.0\n",
       "4     B      6       0.0      0.0\n",
       "5     B      7       1.0      1.0\n",
       "6     C      8      -3.0     -1.0\n",
       "7     C     11       0.0      0.0\n",
       "8     C     14       3.0      1.0"
      ]
     },
     "execution_count": 14,
     "metadata": {},
     "output_type": "execute_result"
    }
   ],
   "source": [
    "(df\n",
    " >> gather(\"group\", \"value\", columns_from(X.A))\n",
    " >> group_by(X.group)\n",
    " >> mutate(centered = X.value - X.value.mean(),\n",
    "           z_score = (X.value - X.value.mean())/X.value.std())\n",
    ")"
   ]
  },
  {
   "cell_type": "markdown",
   "id": "d1048d72",
   "metadata": {},
   "source": [
    "# Activity 4.1 - Cleaning Walmart Data the OpenRefine Way\n",
    "\n",
    "In this activity, you will practice what you learned in Lecture 4.5 by cleaning up a data set containing information on various Walmart locations."
   ]
  },
  {
   "cell_type": "code",
   "execution_count": 17,
   "id": "9f0382a3",
   "metadata": {},
   "outputs": [],
   "source": [
    "import pandas as pd\n",
    "from dfply import *"
   ]
  },
  {
   "cell_type": "markdown",
   "id": "69f1af55",
   "metadata": {},
   "source": [
    "#### Initial Tasks\n",
    "\n",
    "1. Try to read in the `./data/Walmart_United_States_&_Canada.csv` file and verify that you get an encoding error.  This means that the [character encoding](https://en.wikipedia.org/wiki/Character_encoding) isn't the default of `utf-8`.  The easiest way to fix this is to open and save the file in Visual Studio Code."
   ]
  },
  {
   "cell_type": "code",
   "execution_count": 20,
   "id": "cf70ef7e",
   "metadata": {},
   "outputs": [],
   "source": [
    "# Your code here"
   ]
  },
  {
   "cell_type": "markdown",
   "id": "a4d4fb33",
   "metadata": {},
   "source": [
    "2. Read in the data to verify that the encoding is fixed, but that there are two more problems.  What are they?"
   ]
  },
  {
   "cell_type": "code",
   "execution_count": 19,
   "id": "50b6fdb7",
   "metadata": {},
   "outputs": [],
   "source": [
    "#Your code here"
   ]
  },
  {
   "cell_type": "markdown",
   "id": "21292c92",
   "metadata": {},
   "source": [
    "<font color=\"blue\"> Your thoughts here </font>"
   ]
  },
  {
   "cell_type": "markdown",
   "id": "d25342e5",
   "metadata": {},
   "source": [
    "3. Take another look at the file in VS Code and determine solutions to the two/three issues, then read in the data correctly by passing `pd.read_csv` the correct defaults for this data. **Note.** Leave the `\"` in place for now, as they serve an important role here!"
   ]
  },
  {
   "cell_type": "code",
   "execution_count": null,
   "id": "bc1ac469",
   "metadata": {},
   "outputs": [],
   "source": [
    "help(pd.read_csv) # This might help!"
   ]
  },
  {
   "cell_type": "markdown",
   "id": "731bdd25",
   "metadata": {},
   "source": [
    "<font color=\"blue\"> Your thoughts here </font>"
   ]
  },
  {
   "cell_type": "code",
   "execution_count": 19,
   "id": "1cf92ae9",
   "metadata": {},
   "outputs": [],
   "source": [
    "#Your code here"
   ]
  },
  {
   "cell_type": "markdown",
   "id": "bf074f4b",
   "metadata": {},
   "source": [
    "## Cleaning up the store information.\n",
    "\n",
    "As hinted at above, the presence of the `\"` meant the two of the columns--one containing the store type/number and the other contain the address/phone number--are combined together.  This was done because some of these entries have a different number of variables.  For example, the store type/number column sometimes occasionally `Gas`.\n",
    "\n",
    "In this part of the activity, you should apply the iterative OpenRefine approach to separate the information in the store column.\n",
    "\n",
    "**Warning!** There is one entry that doesn't follow the same pattern as the rest.  You won't find this entry unless you carefully define/fix/eliminate patterns."
   ]
  },
  {
   "cell_type": "code",
   "execution_count": 55,
   "id": "920e6069",
   "metadata": {},
   "outputs": [],
   "source": [
    "from more_dfply import case_when, ifelse\n",
    "from more_dfply.facets import text_facet, text_filter\n",
    "\n",
    "# Your code here."
   ]
  },
  {
   "cell_type": "code",
   "execution_count": 56,
   "id": "05be142b",
   "metadata": {},
   "outputs": [],
   "source": [
    "# View cell"
   ]
  },
  {
   "cell_type": "code",
   "execution_count": 57,
   "id": "26904a85",
   "metadata": {},
   "outputs": [],
   "source": [
    "# Transform cell"
   ]
  },
  {
   "cell_type": "markdown",
   "id": "aa609e49",
   "metadata": {},
   "source": [
    "## Cleaning up the address (as time permits).\n",
    "\n",
    "Next, you should clean up the address column.  Note that this column also contains a variable number of element (sometime containing an extra `(NOP)`\n",
    "\n",
    "Again, you should apply the iterative OpenRefine approach to separate the information in the store column."
   ]
  },
  {
   "cell_type": "code",
   "execution_count": 58,
   "id": "3815b347",
   "metadata": {},
   "outputs": [],
   "source": [
    "# Your code here."
   ]
  }
 ],
 "metadata": {
  "kernelspec": {
   "display_name": "Python 3 (ipykernel)",
   "language": "python",
   "name": "python3"
  },
  "language_info": {
   "codemirror_mode": {
    "name": "ipython",
    "version": 3
   },
   "file_extension": ".py",
   "mimetype": "text/x-python",
   "name": "python",
   "nbconvert_exporter": "python",
   "pygments_lexer": "ipython3",
   "version": "3.9.12"
  }
 },
 "nbformat": 4,
 "nbformat_minor": 5
}
